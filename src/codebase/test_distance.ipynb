{
 "cells": [
  {
   "cell_type": "code",
   "execution_count": 33,
   "metadata": {
    "collapsed": true
   },
   "outputs": [],
   "source": [
    "import numpy as np\n",
    "import tensorflow as tf\n",
    "from scipy.spatial.distance import cdist"
   ]
  },
  {
   "cell_type": "code",
   "execution_count": 55,
   "metadata": {},
   "outputs": [
    {
     "name": "stdout",
     "output_type": "stream",
     "text": [
      "query_embedding shape: (300, 64)\n",
      "support embedding shape: (300, 64)\n"
     ]
    }
   ],
   "source": [
    "way  = 5 # number of query points\n",
    "shot = 5 # number of support points\n",
    "embedding_size = 64\n",
    "classes_per_ep = 60\n",
    "\n",
    "# generate dummy data using numpy\n",
    "classes = np.arange(classes_per_ep)\n",
    "support_labels    = np.array([c for c in classes for s in range(shot)])\n",
    "support_embedding = np.random.rand(classes_per_ep*shot, embedding_size)\n",
    "query_labels      = np.array([c for c in classes for w in range(way)])\n",
    "query_embedding   = np.random.rand(classes_per_ep*way, embedding_size)\n",
    "print 'query_embedding shape:', query_embedding.shape\n",
    "print 'support embedding shape:', support_embedding.shape\n",
    "\n",
    "# randomly permute\n",
    "support_perm = np.random.permutation(len(support_labels))\n",
    "support_labels = support_labels[support_perm]\n",
    "support_embedding = support_embedding[support_perm]\n",
    "\n",
    "query_perm = np.random.permutation(len(query_labels))\n",
    "query_labels = query_labels[query_perm]\n",
    "query_embedding = query_embedding[query_perm]"
   ]
  },
  {
   "cell_type": "code",
   "execution_count": 56,
   "metadata": {},
   "outputs": [
    {
     "name": "stdout",
     "output_type": "stream",
     "text": [
      "distances shape: (300, 60)\n",
      "probs shape:  (300, 60)\n",
      "preds shape: (300,)\n"
     ]
    }
   ],
   "source": [
    "# use numpy to compute distance between prototypes and query_embeddings\n",
    "\n",
    "# compute prototypes\n",
    "prototypes = np.zeros((classes_per_ep, embedding_size))\n",
    "for k in classes:\n",
    "    class_embedding = support_embedding[np.where(support_labels == k)]\n",
    "    class_prototype  = np.mean(class_embedding, axis=0)\n",
    "    prototypes[k] = class_prototype\n",
    "    \n",
    "# calculate euclidean squared distance between prototypes and query points\n",
    "distances = cdist(query_embedding, prototypes)**2\n",
    "print 'distances shape:', distances.shape\n",
    "# use distances to predict the class of each query embedding\n",
    "probs     = np.exp(-distances) / np.sum(np.exp(-distances), axis=1).reshape(-1, 1)\n",
    "print 'probs shape: ', probs.shape\n",
    "preds     = np.argmax(probs, axis=1)\n",
    "print 'preds shape:', preds.shape"
   ]
  },
  {
   "cell_type": "code",
   "execution_count": 57,
   "metadata": {
    "collapsed": true
   },
   "outputs": [],
   "source": [
    "# use tensorflow\n",
    "support_embedding_placeholder = tf.placeholder(tf.float32, shape=(classes_per_ep*shot, embedding_size))\n",
    "support_labels_placeholder = tf.placeholder(tf.int64, shape=(classes_per_ep*shot))\n",
    "query_embedding_placeholder = tf.placeholder(tf.float32, shape=(classes_per_ep*shot, embedding_size))\n",
    "\n",
    "# compute the prototype for each class\n",
    "ones = tf.ones_like(support_embedding_placeholder)\n",
    "per_class_embedding_sum = tf.unsorted_segment_sum(support_embedding_placeholder, support_labels_placeholder, classes_per_ep)\n",
    "class_counts = tf.unsorted_segment_sum(ones, support_labels_placeholder, classes_per_ep)\n",
    "tf_prototypes = per_class_embedding_sum / class_counts\n",
    "\n",
    "# calculate euclidean distance\n",
    "query_square_sum = tf.reshape(tf.reduce_sum(tf.square(query_embedding_placeholder), 1), shape=[-1, 1])\n",
    "proto_square_sum = tf.reduce_sum(tf.square(tf_prototypes), 1)\n",
    "tf_distances = tf.add(query_square_sum, proto_square_sum, name='square_sum') - 2*tf.matmul(query_embedding_placeholder, tf_prototypes, transpose_b=True)\n",
    "\n",
    "# use distances to make prediction\n",
    "logits = -1.0 * tf_distances\n",
    "tf_predictions = tf.argmax(tf.nn.softmax(logits), 1)\n",
    "\n",
    "init = tf.global_variables_initializer()\n",
    "with tf.Session() as sess:\n",
    "    sess.run(init)\n",
    "    feed_dict = {support_embedding_placeholder : support_embedding, \n",
    "                 support_labels_placeholder    : support_labels,\n",
    "                 query_embedding_placeholder   : query_embedding}\n",
    "    tf_dist = sess.run([tf_distances], feed_dict=feed_dict)[0]"
   ]
  },
  {
   "cell_type": "code",
   "execution_count": 58,
   "metadata": {},
   "outputs": [
    {
     "name": "stdout",
     "output_type": "stream",
     "text": [
      "[[ True  True  True ...,  True  True  True]\n",
      " [ True  True  True ...,  True  True  True]\n",
      " [ True  True  True ...,  True  True  True]\n",
      " ..., \n",
      " [ True  True  True ...,  True  True  True]\n",
      " [ True  True  True ...,  True  True  True]\n",
      " [ True  True  True ...,  True  True  True]]\n"
     ]
    }
   ],
   "source": [
    "print np.isclose(tf_dist, distances)"
   ]
  },
  {
   "cell_type": "code",
   "execution_count": null,
   "metadata": {
    "collapsed": true
   },
   "outputs": [],
   "source": []
  }
 ],
 "metadata": {
  "kernelspec": {
   "display_name": "Python 2",
   "language": "python",
   "name": "python2"
  },
  "language_info": {
   "codemirror_mode": {
    "name": "ipython",
    "version": 2
   },
   "file_extension": ".py",
   "mimetype": "text/x-python",
   "name": "python",
   "nbconvert_exporter": "python",
   "pygments_lexer": "ipython2",
   "version": "2.7.13"
  }
 },
 "nbformat": 4,
 "nbformat_minor": 2
}
